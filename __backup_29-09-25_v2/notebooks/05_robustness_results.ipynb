{
 "cells": [
  {
   "cell_type": "markdown",
   "id": "0510804e",
   "metadata": {},
   "source": [
    "# 05 — Robustness Results & Pareto Selection\n",
    "\n",
    "Loads the latest `runs/robustness_*` summary, plots Sharpe vs MaxDD,\n",
    "computes a Pareto front, and helps you pick candidate configurations.\n"
   ]
  },
  {
   "cell_type": "code",
   "execution_count": 10,
   "id": "2acdc30a",
   "metadata": {},
   "outputs": [
    {
     "name": "stdout",
     "output_type": "stream",
     "text": [
      "Using robustness folder: C:\\Users\\speed\\Desktop\\Forex CFD's system\\runs\\robustness_quickdemo\n",
      "Rows: 16\n"
     ]
    },
    {
     "data": {
      "text/html": [
       "<div>\n",
       "<style scoped>\n",
       "    .dataframe tbody tr th:only-of-type {\n",
       "        vertical-align: middle;\n",
       "    }\n",
       "\n",
       "    .dataframe tbody tr th {\n",
       "        vertical-align: top;\n",
       "    }\n",
       "\n",
       "    .dataframe thead th {\n",
       "        text-align: right;\n",
       "    }\n",
       "</style>\n",
       "<table border=\"1\" class=\"dataframe\">\n",
       "  <thead>\n",
       "    <tr style=\"text-align: right;\">\n",
       "      <th></th>\n",
       "      <th>run</th>\n",
       "      <th>loo</th>\n",
       "      <th>lookbacks</th>\n",
       "      <th>w_tsmom</th>\n",
       "      <th>w_xsec</th>\n",
       "      <th>w_mr</th>\n",
       "      <th>w_volcarry</th>\n",
       "      <th>vc_top_q</th>\n",
       "      <th>vc_bot_q</th>\n",
       "      <th>vc_lookback</th>\n",
       "      <th>target_vol</th>\n",
       "      <th>vol_lookback</th>\n",
       "      <th>max_leverage</th>\n",
       "      <th>cagr</th>\n",
       "      <th>vol</th>\n",
       "      <th>sharpe</th>\n",
       "      <th>maxdd</th>\n",
       "      <th>mar</th>\n",
       "    </tr>\n",
       "  </thead>\n",
       "  <tbody>\n",
       "    <tr>\n",
       "      <th>0</th>\n",
       "      <td>1</td>\n",
       "      <td>-</td>\n",
       "      <td>(63,126,252)</td>\n",
       "      <td>1.0</td>\n",
       "      <td>0.8</td>\n",
       "      <td>0.6</td>\n",
       "      <td>0.0</td>\n",
       "      <td>0.25</td>\n",
       "      <td>0.25</td>\n",
       "      <td>42</td>\n",
       "      <td>0.1</td>\n",
       "      <td>15</td>\n",
       "      <td>2.0</td>\n",
       "      <td>0.045736</td>\n",
       "      <td>0.025695</td>\n",
       "      <td>1.779986</td>\n",
       "      <td>-0.021725</td>\n",
       "      <td>2.105193</td>\n",
       "    </tr>\n",
       "    <tr>\n",
       "      <th>1</th>\n",
       "      <td>2</td>\n",
       "      <td>-</td>\n",
       "      <td>(63,126,252)</td>\n",
       "      <td>1.0</td>\n",
       "      <td>0.8</td>\n",
       "      <td>0.6</td>\n",
       "      <td>0.0</td>\n",
       "      <td>0.25</td>\n",
       "      <td>0.25</td>\n",
       "      <td>42</td>\n",
       "      <td>0.1</td>\n",
       "      <td>15</td>\n",
       "      <td>3.0</td>\n",
       "      <td>0.039191</td>\n",
       "      <td>0.028408</td>\n",
       "      <td>1.379554</td>\n",
       "      <td>-0.028128</td>\n",
       "      <td>1.393305</td>\n",
       "    </tr>\n",
       "    <tr>\n",
       "      <th>2</th>\n",
       "      <td>3</td>\n",
       "      <td>-</td>\n",
       "      <td>(63,126,252)</td>\n",
       "      <td>1.0</td>\n",
       "      <td>0.8</td>\n",
       "      <td>0.6</td>\n",
       "      <td>0.0</td>\n",
       "      <td>0.25</td>\n",
       "      <td>0.25</td>\n",
       "      <td>42</td>\n",
       "      <td>0.1</td>\n",
       "      <td>30</td>\n",
       "      <td>2.0</td>\n",
       "      <td>0.035552</td>\n",
       "      <td>0.026325</td>\n",
       "      <td>1.350501</td>\n",
       "      <td>-0.021943</td>\n",
       "      <td>1.620177</td>\n",
       "    </tr>\n",
       "  </tbody>\n",
       "</table>\n",
       "</div>"
      ],
      "text/plain": [
       "   run loo     lookbacks  w_tsmom  w_xsec  w_mr  w_volcarry  vc_top_q  \\\n",
       "0    1   -  (63,126,252)      1.0     0.8   0.6         0.0      0.25   \n",
       "1    2   -  (63,126,252)      1.0     0.8   0.6         0.0      0.25   \n",
       "2    3   -  (63,126,252)      1.0     0.8   0.6         0.0      0.25   \n",
       "\n",
       "   vc_bot_q  vc_lookback  target_vol  vol_lookback  max_leverage      cagr  \\\n",
       "0      0.25           42         0.1            15           2.0  0.045736   \n",
       "1      0.25           42         0.1            15           3.0  0.039191   \n",
       "2      0.25           42         0.1            30           2.0  0.035552   \n",
       "\n",
       "        vol    sharpe     maxdd       mar  \n",
       "0  0.025695  1.779986 -0.021725  2.105193  \n",
       "1  0.028408  1.379554 -0.028128  1.393305  \n",
       "2  0.026325  1.350501 -0.021943  1.620177  "
      ]
     },
     "execution_count": 10,
     "metadata": {},
     "output_type": "execute_result"
    }
   ],
   "source": [
    "from pathlib import Path\n",
    "import pandas as pd\n",
    "import numpy as np\n",
    "\n",
    "# 🔧 Set to your project path (preset for you)\n",
    "PROJECT_OVERRIDE = r\"C:\\Users\\speed\\Desktop\\Forex CFD's system\"\n",
    "ROOT = Path(PROJECT_OVERRIDE)\n",
    "\n",
    "RUNS = ROOT / \"runs\"\n",
    "\n",
    "# Manual override (optional): point directly to a specific robustness folder\n",
    "ROBUSTNESS_DIR_OVERRIDE = None  # e.g. ROOT/\"runs/robustness_20250929_1201\"\n",
    "\n",
    "def newest_robustness_dir(base: Path) -> Path | None:\n",
    "    cands = sorted([p for p in base.glob(\"robustness_*\") if p.is_dir()],\n",
    "                   key=lambda p: p.stat().st_mtime, reverse=True)\n",
    "    return cands[0] if cands else None\n",
    "\n",
    "ROB_DIR = ROBUSTNESS_DIR_OVERRIDE or newest_robustness_dir(RUNS)\n",
    "assert ROB_DIR is not None, f\"No runs/robustness_* folder found under {RUNS}\"\n",
    "\n",
    "print(\"Using robustness folder:\", ROB_DIR)\n",
    "SUM = ROB_DIR / \"summary.csv\"\n",
    "assert SUM.exists(), f\"Missing summary.csv in {ROB_DIR}\"\n",
    "df = pd.read_csv(SUM)\n",
    "print(\"Rows:\", len(df))\n",
    "df.head(3)\n"
   ]
  },
  {
   "cell_type": "code",
   "execution_count": 6,
   "id": "f6bc8df0",
   "metadata": {},
   "outputs": [
    {
     "data": {
      "text/html": [
       "<div>\n",
       "<style scoped>\n",
       "    .dataframe tbody tr th:only-of-type {\n",
       "        vertical-align: middle;\n",
       "    }\n",
       "\n",
       "    .dataframe tbody tr th {\n",
       "        vertical-align: top;\n",
       "    }\n",
       "\n",
       "    .dataframe thead th {\n",
       "        text-align: right;\n",
       "    }\n",
       "</style>\n",
       "<table border=\"1\" class=\"dataframe\">\n",
       "  <thead>\n",
       "    <tr style=\"text-align: right;\">\n",
       "      <th></th>\n",
       "      <th>run</th>\n",
       "      <th>loo</th>\n",
       "      <th>lookbacks</th>\n",
       "      <th>w_tsmom</th>\n",
       "      <th>w_xsec</th>\n",
       "      <th>w_mr</th>\n",
       "      <th>w_volcarry</th>\n",
       "      <th>target_vol</th>\n",
       "      <th>vol_lookback</th>\n",
       "      <th>max_leverage</th>\n",
       "      <th>cagr</th>\n",
       "      <th>vol</th>\n",
       "      <th>sharpe</th>\n",
       "      <th>maxdd</th>\n",
       "      <th>mar</th>\n",
       "    </tr>\n",
       "  </thead>\n",
       "  <tbody>\n",
       "    <tr>\n",
       "      <th>5</th>\n",
       "      <td>6</td>\n",
       "      <td>-</td>\n",
       "      <td>(63, 126, 252)</td>\n",
       "      <td>1.0</td>\n",
       "      <td>0.8</td>\n",
       "      <td>0.6</td>\n",
       "      <td>0.0</td>\n",
       "      <td>0.1</td>\n",
       "      <td>30</td>\n",
       "      <td>3.0</td>\n",
       "      <td>0.178493</td>\n",
       "      <td>0.11936</td>\n",
       "      <td>1.495421</td>\n",
       "      <td>-0.025824</td>\n",
       "      <td>6.911919</td>\n",
       "    </tr>\n",
       "  </tbody>\n",
       "</table>\n",
       "</div>"
      ],
      "text/plain": [
       "   run loo       lookbacks  w_tsmom  w_xsec  w_mr  w_volcarry  target_vol  \\\n",
       "5    6   -  (63, 126, 252)      1.0     0.8   0.6         0.0         0.1   \n",
       "\n",
       "   vol_lookback  max_leverage      cagr      vol    sharpe     maxdd       mar  \n",
       "5            30           3.0  0.178493  0.11936  1.495421 -0.025824  6.911919  "
      ]
     },
     "execution_count": 6,
     "metadata": {},
     "output_type": "execute_result"
    }
   ],
   "source": [
    "import pandas as pd\n",
    "\n",
    "def pareto_front(df, xcol='maxdd', ycol='sharpe', top_n=15):\n",
    "    dx = df[xcol].abs().astype(float)\n",
    "    dy = df[ycol].astype(float)\n",
    "    order = np.lexsort((-dy.values, dx.values))\n",
    "    mask = [False]*len(df); best_s=-1e9; best_d=1e9\n",
    "    for i in order:\n",
    "        d=float(dx.iloc[i]); s=float(dy.iloc[i])\n",
    "        if d<=best_d and s>=best_s:\n",
    "            mask[i]=True; best_d=d; best_s=s\n",
    "    pf = df[mask].copy()\n",
    "    pf = pf.sort_values([ycol, xcol], ascending=[False, True]).head(top_n)\n",
    "    return pf\n",
    "\n",
    "pf = pareto_front(df, xcol='maxdd', ycol='sharpe', top_n=15)\n",
    "\n",
    "base_cols = ['run','loo','lookbacks','w_tsmom','w_xsec','w_mr']\n",
    "maybe_cols = ['w_volcarry','vc_top_q','vc_bot_q','vc_lookback']\n",
    "tail_cols = ['target_vol','vol_lookback','max_leverage','cagr','vol','sharpe','maxdd','mar']\n",
    "\n",
    "# only keep columns that actually exist\n",
    "existing = set(df.columns)\n",
    "cols_show = [c for c in base_cols + maybe_cols + tail_cols if c in existing]\n",
    "\n",
    "pf_display = pf[cols_show].copy()\n",
    "pf_display\n",
    "\n"
   ]
  },
  {
   "cell_type": "code",
   "execution_count": 7,
   "id": "2a8fbaf3",
   "metadata": {},
   "outputs": [
    {
     "data": {
      "application/vnd.plotly.v1+json": {
       "config": {
        "plotlyServerURL": "https://plot.ly"
       },
       "data": [
        {
         "customdata": [
          [
           1,
           "(63, 126, 252)",
           1,
           0.8,
           0.6,
           0,
           0.1,
           15,
           2,
           0.1341526782098343,
           0.0874891516984923,
           -0.0278397113051223,
           4.818752491343228
          ],
          [
           2,
           "(63, 126, 252)",
           1,
           0.8,
           0.6,
           0,
           0.1,
           15,
           3,
           0.1832290622503261,
           0.1261807200502781,
           -0.0278430800405505,
           6.580775617621032
          ],
          [
           3,
           "(63, 126, 252)",
           1,
           0.8,
           0.6,
           0,
           0.1,
           20,
           2,
           0.1401439160564914,
           0.0878074086292224,
           -0.0261986147702043,
           5.349287253762627
          ],
          [
           4,
           "(63, 126, 252)",
           1,
           0.8,
           0.6,
           0,
           0.1,
           20,
           3,
           0.1890993387468078,
           0.1261468090562128,
           -0.0261966718863658,
           7.218448952869662
          ],
          [
           5,
           "(63, 126, 252)",
           1,
           0.8,
           0.6,
           0,
           0.1,
           30,
           2,
           0.1391721584700516,
           0.0886831482606072,
           -0.0258319672088599,
           5.387594268171641
          ],
          [
           6,
           "(63, 126, 252)",
           1,
           0.8,
           0.6,
           0,
           0.1,
           30,
           3,
           0.1784934984483872,
           0.1193600063009305,
           -0.0258240153162155,
           6.9119188578046735
          ],
          [
           7,
           "(63, 126, 252)",
           1,
           0.8,
           0.6,
           0,
           0.12,
           15,
           2,
           0.1430858194339075,
           0.0894032340382146,
           -0.0324571107189642,
           4.408458308961686
          ],
          [
           8,
           "(63, 126, 252)",
           1,
           0.8,
           0.6,
           0,
           0.12,
           15,
           3,
           0.1910952227840547,
           0.1273211237506543,
           -0.0334206548792144,
           5.717877865490427
          ],
          [
           9,
           "(63, 126, 252)",
           1,
           0.8,
           0.6,
           0,
           0.12,
           20,
           2,
           0.150380935955172,
           0.0898972948485823,
           -0.0307110612319763,
           4.896637560625733
          ],
          [
           10,
           "(63, 126, 252)",
           1,
           0.8,
           0.6,
           0,
           0.12,
           20,
           3,
           0.1981561627085299,
           0.1273567605953336,
           -0.0314297000274323,
           6.304742410381766
          ],
          [
           11,
           "(63, 126, 252)",
           1,
           0.8,
           0.6,
           0,
           0.12,
           30,
           2,
           0.1493936662602535,
           0.0911109792717182,
           -0.0301670143753541,
           4.9522191490817535
          ],
          [
           12,
           "(63, 126, 252)",
           1,
           0.8,
           0.6,
           0,
           0.12,
           30,
           3,
           0.1964545647380833,
           0.12817971532111,
           -0.0309610624136056,
           6.345213937224346
          ],
          [
           13,
           "(63, 126, 252)",
           1,
           0.8,
           0.6,
           0,
           0.15,
           15,
           2,
           0.1609193504328441,
           0.0914709672407991,
           -0.0329321090667767,
           4.886396741446052
          ],
          [
           14,
           "(63, 126, 252)",
           1,
           0.8,
           0.6,
           0,
           0.15,
           15,
           3,
           0.2023831111546827,
           0.1296376141330569,
           -0.0417857949475996,
           4.843347156814322
          ],
          [
           15,
           "(63, 126, 252)",
           1,
           0.8,
           0.6,
           0,
           0.15,
           20,
           2,
           0.1644235842822372,
           0.0921849669637156,
           -0.033122793137553,
           4.964061563268996
          ],
          [
           16,
           "(63, 126, 252)",
           1,
           0.8,
           0.6,
           0,
           0.15,
           20,
           3,
           0.2114621943616057,
           0.1297764735998942,
           -0.0392773611770114,
           5.383818770528101
          ],
          [
           17,
           "(63, 126, 252)",
           1,
           0.8,
           0.6,
           0,
           0.15,
           30,
           2,
           0.1599200614956188,
           0.0921884103868872,
           -0.0321776320115694,
           4.969913927728425
          ],
          [
           18,
           "(63, 126, 252)",
           1,
           0.8,
           0.6,
           0,
           0.15,
           30,
           3,
           0.2095245422660367,
           0.1309866893675106,
           -0.0386675022632551,
           5.418621064261072
          ],
          [
           19,
           "(63, 126, 252)",
           1,
           0.8,
           0.6,
           0.3,
           0.1,
           15,
           2,
           0.0212423404128394,
           0.0317733888433988,
           -0.0280814934425328,
           0.7564533722649285
          ],
          [
           20,
           "(63, 126, 252)",
           1,
           0.8,
           0.6,
           0.3,
           0.1,
           15,
           3,
           0.0213317096661602,
           0.0318072016763981,
           -0.0280848420912535,
           0.7595452948195008
          ],
          [
           21,
           "(63, 126, 252)",
           1,
           0.8,
           0.6,
           0.3,
           0.1,
           20,
           2,
           0.0264975334145582,
           0.0329703646696478,
           -0.0262426702351754,
           1.0097117853137223
          ],
          [
           22,
           "(63, 126, 252)",
           1,
           0.8,
           0.6,
           0.3,
           0.1,
           20,
           3,
           0.0263839491788802,
           0.0330042947133769,
           -0.026240732081054,
           1.0054578163971868
          ],
          [
           23,
           "(63, 126, 252)",
           1,
           0.8,
           0.6,
           0.3,
           0.1,
           30,
           2,
           0.0264944799721082,
           0.0350194824743938,
           -0.026408065108449,
           1.0032722906166869
          ],
          [
           24,
           "(63, 126, 252)",
           1,
           0.8,
           0.6,
           0.3,
           0.1,
           30,
           3,
           0.0261779321221817,
           0.0350530004619273,
           -0.0264002830295193,
           0.9915777074401454
          ]
         ],
         "hovertemplate": "drawdown_abs=%{x}<br>sharpe=%{y}<br>run=%{customdata[0]}<br>lookbacks=%{customdata[1]}<br>w_tsmom=%{customdata[2]}<br>w_xsec=%{customdata[3]}<br>w_mr=%{customdata[4]}<br>w_volcarry=%{customdata[5]}<br>target_vol=%{customdata[6]}<br>vol_lookback=%{customdata[7]}<br>max_leverage=%{customdata[8]}<br>cagr=%{customdata[9]}<br>vol=%{customdata[10]}<br>maxdd=%{customdata[11]}<br>mar=%{customdata[12]}<extra></extra>",
         "legendgroup": "",
         "marker": {
          "color": "#636efa",
          "symbol": "circle"
         },
         "mode": "markers",
         "name": "",
         "orientation": "v",
         "showlegend": false,
         "type": "scatter",
         "x": {
          "bdata": "vqJXZgOCnD+Iu8Z45YKcP9HajUbP05o/C14Q5EzTmj8U4Wn5sXOaP4ct8FSccZo/Qwcf6jeeoD99K28XgxyhPz2Yd264cp8/0lh7u40XoD9I86MQGuSePzY7ELpBtJ8/gzfcNnrcoD+wf3md8mSlPzdRjoJ49aA/nvZ0iykcpD8dCU4qlnmgP+8BRxM6zKM/cIXVH2XBnD8fWC7ZRcKcP6/drclb35o/9ORxuNnemj+uOPc/twqbP7Ai3gCtCJs/",
          "dtype": "f8"
         },
         "xaxis": "x",
         "y": {
          "bdata": "QE3RPaiI+D/dArEm3jv3P+e1X5teifk/8qgXPxP89z8koWNY7hv5P1kTjug+7fc/PdcmT3ab+T8Al0AOpwP4Pzb/1ZPSw/o/Rd9zCwbl+D9Eu/J7Kjz6P4njlWK7hfg/Qffnc9gl/D9ee+Upc/r4P1mMwFS8ifw/RRJJWikS+j/0fqwuXsH7P/UDMwjol/k/AbZ15dJk5T+ObV/TBHblP6KTC3G5t+k/kewVY8OU6T/baD64xTXoP6A9xCLe5ec/",
          "dtype": "f8"
         },
         "yaxis": "y"
        }
       ],
       "layout": {
        "legend": {
         "tracegroupgap": 0
        },
        "template": {
         "data": {
          "bar": [
           {
            "error_x": {
             "color": "#2a3f5f"
            },
            "error_y": {
             "color": "#2a3f5f"
            },
            "marker": {
             "line": {
              "color": "#E5ECF6",
              "width": 0.5
             },
             "pattern": {
              "fillmode": "overlay",
              "size": 10,
              "solidity": 0.2
             }
            },
            "type": "bar"
           }
          ],
          "barpolar": [
           {
            "marker": {
             "line": {
              "color": "#E5ECF6",
              "width": 0.5
             },
             "pattern": {
              "fillmode": "overlay",
              "size": 10,
              "solidity": 0.2
             }
            },
            "type": "barpolar"
           }
          ],
          "carpet": [
           {
            "aaxis": {
             "endlinecolor": "#2a3f5f",
             "gridcolor": "white",
             "linecolor": "white",
             "minorgridcolor": "white",
             "startlinecolor": "#2a3f5f"
            },
            "baxis": {
             "endlinecolor": "#2a3f5f",
             "gridcolor": "white",
             "linecolor": "white",
             "minorgridcolor": "white",
             "startlinecolor": "#2a3f5f"
            },
            "type": "carpet"
           }
          ],
          "choropleth": [
           {
            "colorbar": {
             "outlinewidth": 0,
             "ticks": ""
            },
            "type": "choropleth"
           }
          ],
          "contour": [
           {
            "colorbar": {
             "outlinewidth": 0,
             "ticks": ""
            },
            "colorscale": [
             [
              0,
              "#0d0887"
             ],
             [
              0.1111111111111111,
              "#46039f"
             ],
             [
              0.2222222222222222,
              "#7201a8"
             ],
             [
              0.3333333333333333,
              "#9c179e"
             ],
             [
              0.4444444444444444,
              "#bd3786"
             ],
             [
              0.5555555555555556,
              "#d8576b"
             ],
             [
              0.6666666666666666,
              "#ed7953"
             ],
             [
              0.7777777777777778,
              "#fb9f3a"
             ],
             [
              0.8888888888888888,
              "#fdca26"
             ],
             [
              1,
              "#f0f921"
             ]
            ],
            "type": "contour"
           }
          ],
          "contourcarpet": [
           {
            "colorbar": {
             "outlinewidth": 0,
             "ticks": ""
            },
            "type": "contourcarpet"
           }
          ],
          "heatmap": [
           {
            "colorbar": {
             "outlinewidth": 0,
             "ticks": ""
            },
            "colorscale": [
             [
              0,
              "#0d0887"
             ],
             [
              0.1111111111111111,
              "#46039f"
             ],
             [
              0.2222222222222222,
              "#7201a8"
             ],
             [
              0.3333333333333333,
              "#9c179e"
             ],
             [
              0.4444444444444444,
              "#bd3786"
             ],
             [
              0.5555555555555556,
              "#d8576b"
             ],
             [
              0.6666666666666666,
              "#ed7953"
             ],
             [
              0.7777777777777778,
              "#fb9f3a"
             ],
             [
              0.8888888888888888,
              "#fdca26"
             ],
             [
              1,
              "#f0f921"
             ]
            ],
            "type": "heatmap"
           }
          ],
          "histogram": [
           {
            "marker": {
             "pattern": {
              "fillmode": "overlay",
              "size": 10,
              "solidity": 0.2
             }
            },
            "type": "histogram"
           }
          ],
          "histogram2d": [
           {
            "colorbar": {
             "outlinewidth": 0,
             "ticks": ""
            },
            "colorscale": [
             [
              0,
              "#0d0887"
             ],
             [
              0.1111111111111111,
              "#46039f"
             ],
             [
              0.2222222222222222,
              "#7201a8"
             ],
             [
              0.3333333333333333,
              "#9c179e"
             ],
             [
              0.4444444444444444,
              "#bd3786"
             ],
             [
              0.5555555555555556,
              "#d8576b"
             ],
             [
              0.6666666666666666,
              "#ed7953"
             ],
             [
              0.7777777777777778,
              "#fb9f3a"
             ],
             [
              0.8888888888888888,
              "#fdca26"
             ],
             [
              1,
              "#f0f921"
             ]
            ],
            "type": "histogram2d"
           }
          ],
          "histogram2dcontour": [
           {
            "colorbar": {
             "outlinewidth": 0,
             "ticks": ""
            },
            "colorscale": [
             [
              0,
              "#0d0887"
             ],
             [
              0.1111111111111111,
              "#46039f"
             ],
             [
              0.2222222222222222,
              "#7201a8"
             ],
             [
              0.3333333333333333,
              "#9c179e"
             ],
             [
              0.4444444444444444,
              "#bd3786"
             ],
             [
              0.5555555555555556,
              "#d8576b"
             ],
             [
              0.6666666666666666,
              "#ed7953"
             ],
             [
              0.7777777777777778,
              "#fb9f3a"
             ],
             [
              0.8888888888888888,
              "#fdca26"
             ],
             [
              1,
              "#f0f921"
             ]
            ],
            "type": "histogram2dcontour"
           }
          ],
          "mesh3d": [
           {
            "colorbar": {
             "outlinewidth": 0,
             "ticks": ""
            },
            "type": "mesh3d"
           }
          ],
          "parcoords": [
           {
            "line": {
             "colorbar": {
              "outlinewidth": 0,
              "ticks": ""
             }
            },
            "type": "parcoords"
           }
          ],
          "pie": [
           {
            "automargin": true,
            "type": "pie"
           }
          ],
          "scatter": [
           {
            "fillpattern": {
             "fillmode": "overlay",
             "size": 10,
             "solidity": 0.2
            },
            "type": "scatter"
           }
          ],
          "scatter3d": [
           {
            "line": {
             "colorbar": {
              "outlinewidth": 0,
              "ticks": ""
             }
            },
            "marker": {
             "colorbar": {
              "outlinewidth": 0,
              "ticks": ""
             }
            },
            "type": "scatter3d"
           }
          ],
          "scattercarpet": [
           {
            "marker": {
             "colorbar": {
              "outlinewidth": 0,
              "ticks": ""
             }
            },
            "type": "scattercarpet"
           }
          ],
          "scattergeo": [
           {
            "marker": {
             "colorbar": {
              "outlinewidth": 0,
              "ticks": ""
             }
            },
            "type": "scattergeo"
           }
          ],
          "scattergl": [
           {
            "marker": {
             "colorbar": {
              "outlinewidth": 0,
              "ticks": ""
             }
            },
            "type": "scattergl"
           }
          ],
          "scattermap": [
           {
            "marker": {
             "colorbar": {
              "outlinewidth": 0,
              "ticks": ""
             }
            },
            "type": "scattermap"
           }
          ],
          "scattermapbox": [
           {
            "marker": {
             "colorbar": {
              "outlinewidth": 0,
              "ticks": ""
             }
            },
            "type": "scattermapbox"
           }
          ],
          "scatterpolar": [
           {
            "marker": {
             "colorbar": {
              "outlinewidth": 0,
              "ticks": ""
             }
            },
            "type": "scatterpolar"
           }
          ],
          "scatterpolargl": [
           {
            "marker": {
             "colorbar": {
              "outlinewidth": 0,
              "ticks": ""
             }
            },
            "type": "scatterpolargl"
           }
          ],
          "scatterternary": [
           {
            "marker": {
             "colorbar": {
              "outlinewidth": 0,
              "ticks": ""
             }
            },
            "type": "scatterternary"
           }
          ],
          "surface": [
           {
            "colorbar": {
             "outlinewidth": 0,
             "ticks": ""
            },
            "colorscale": [
             [
              0,
              "#0d0887"
             ],
             [
              0.1111111111111111,
              "#46039f"
             ],
             [
              0.2222222222222222,
              "#7201a8"
             ],
             [
              0.3333333333333333,
              "#9c179e"
             ],
             [
              0.4444444444444444,
              "#bd3786"
             ],
             [
              0.5555555555555556,
              "#d8576b"
             ],
             [
              0.6666666666666666,
              "#ed7953"
             ],
             [
              0.7777777777777778,
              "#fb9f3a"
             ],
             [
              0.8888888888888888,
              "#fdca26"
             ],
             [
              1,
              "#f0f921"
             ]
            ],
            "type": "surface"
           }
          ],
          "table": [
           {
            "cells": {
             "fill": {
              "color": "#EBF0F8"
             },
             "line": {
              "color": "white"
             }
            },
            "header": {
             "fill": {
              "color": "#C8D4E3"
             },
             "line": {
              "color": "white"
             }
            },
            "type": "table"
           }
          ]
         },
         "layout": {
          "annotationdefaults": {
           "arrowcolor": "#2a3f5f",
           "arrowhead": 0,
           "arrowwidth": 1
          },
          "autotypenumbers": "strict",
          "coloraxis": {
           "colorbar": {
            "outlinewidth": 0,
            "ticks": ""
           }
          },
          "colorscale": {
           "diverging": [
            [
             0,
             "#8e0152"
            ],
            [
             0.1,
             "#c51b7d"
            ],
            [
             0.2,
             "#de77ae"
            ],
            [
             0.3,
             "#f1b6da"
            ],
            [
             0.4,
             "#fde0ef"
            ],
            [
             0.5,
             "#f7f7f7"
            ],
            [
             0.6,
             "#e6f5d0"
            ],
            [
             0.7,
             "#b8e186"
            ],
            [
             0.8,
             "#7fbc41"
            ],
            [
             0.9,
             "#4d9221"
            ],
            [
             1,
             "#276419"
            ]
           ],
           "sequential": [
            [
             0,
             "#0d0887"
            ],
            [
             0.1111111111111111,
             "#46039f"
            ],
            [
             0.2222222222222222,
             "#7201a8"
            ],
            [
             0.3333333333333333,
             "#9c179e"
            ],
            [
             0.4444444444444444,
             "#bd3786"
            ],
            [
             0.5555555555555556,
             "#d8576b"
            ],
            [
             0.6666666666666666,
             "#ed7953"
            ],
            [
             0.7777777777777778,
             "#fb9f3a"
            ],
            [
             0.8888888888888888,
             "#fdca26"
            ],
            [
             1,
             "#f0f921"
            ]
           ],
           "sequentialminus": [
            [
             0,
             "#0d0887"
            ],
            [
             0.1111111111111111,
             "#46039f"
            ],
            [
             0.2222222222222222,
             "#7201a8"
            ],
            [
             0.3333333333333333,
             "#9c179e"
            ],
            [
             0.4444444444444444,
             "#bd3786"
            ],
            [
             0.5555555555555556,
             "#d8576b"
            ],
            [
             0.6666666666666666,
             "#ed7953"
            ],
            [
             0.7777777777777778,
             "#fb9f3a"
            ],
            [
             0.8888888888888888,
             "#fdca26"
            ],
            [
             1,
             "#f0f921"
            ]
           ]
          },
          "colorway": [
           "#636efa",
           "#EF553B",
           "#00cc96",
           "#ab63fa",
           "#FFA15A",
           "#19d3f3",
           "#FF6692",
           "#B6E880",
           "#FF97FF",
           "#FECB52"
          ],
          "font": {
           "color": "#2a3f5f"
          },
          "geo": {
           "bgcolor": "white",
           "lakecolor": "white",
           "landcolor": "#E5ECF6",
           "showlakes": true,
           "showland": true,
           "subunitcolor": "white"
          },
          "hoverlabel": {
           "align": "left"
          },
          "hovermode": "closest",
          "mapbox": {
           "style": "light"
          },
          "paper_bgcolor": "white",
          "plot_bgcolor": "#E5ECF6",
          "polar": {
           "angularaxis": {
            "gridcolor": "white",
            "linecolor": "white",
            "ticks": ""
           },
           "bgcolor": "#E5ECF6",
           "radialaxis": {
            "gridcolor": "white",
            "linecolor": "white",
            "ticks": ""
           }
          },
          "scene": {
           "xaxis": {
            "backgroundcolor": "#E5ECF6",
            "gridcolor": "white",
            "gridwidth": 2,
            "linecolor": "white",
            "showbackground": true,
            "ticks": "",
            "zerolinecolor": "white"
           },
           "yaxis": {
            "backgroundcolor": "#E5ECF6",
            "gridcolor": "white",
            "gridwidth": 2,
            "linecolor": "white",
            "showbackground": true,
            "ticks": "",
            "zerolinecolor": "white"
           },
           "zaxis": {
            "backgroundcolor": "#E5ECF6",
            "gridcolor": "white",
            "gridwidth": 2,
            "linecolor": "white",
            "showbackground": true,
            "ticks": "",
            "zerolinecolor": "white"
           }
          },
          "shapedefaults": {
           "line": {
            "color": "#2a3f5f"
           }
          },
          "ternary": {
           "aaxis": {
            "gridcolor": "white",
            "linecolor": "white",
            "ticks": ""
           },
           "baxis": {
            "gridcolor": "white",
            "linecolor": "white",
            "ticks": ""
           },
           "bgcolor": "#E5ECF6",
           "caxis": {
            "gridcolor": "white",
            "linecolor": "white",
            "ticks": ""
           }
          },
          "title": {
           "x": 0.05
          },
          "xaxis": {
           "automargin": true,
           "gridcolor": "white",
           "linecolor": "white",
           "ticks": "",
           "title": {
            "standoff": 15
           },
           "zerolinecolor": "white",
           "zerolinewidth": 2
          },
          "yaxis": {
           "automargin": true,
           "gridcolor": "white",
           "linecolor": "white",
           "ticks": "",
           "title": {
            "standoff": 15
           },
           "zerolinecolor": "white",
           "zerolinewidth": 2
          }
         }
        },
        "title": {
         "text": "Sharpe vs |MaxDD| (lower is better on X, higher is better on Y)"
        },
        "xaxis": {
         "anchor": "y",
         "domain": [
          0,
          1
         ],
         "title": {
          "text": "|Max Drawdown|"
         }
        },
        "yaxis": {
         "anchor": "x",
         "domain": [
          0,
          1
         ],
         "title": {
          "text": "Sharpe"
         }
        }
       }
      }
     },
     "metadata": {},
     "output_type": "display_data"
    },
    {
     "data": {
      "application/vnd.plotly.v1+json": {
       "config": {
        "plotlyServerURL": "https://plot.ly"
       },
       "data": [
        {
         "customdata": [
          [
           "-",
           "(63, 126, 252)",
           1,
           0.8,
           0.6,
           0,
           0.15,
           20,
           2,
           0.1644235842822372,
           0.0921849669637156,
           -0.033122793137553,
           4.964061563268996
          ],
          [
           "-",
           "(63, 126, 252)",
           1,
           0.8,
           0.6,
           0,
           0.15,
           15,
           2,
           0.1609193504328441,
           0.0914709672407991,
           -0.0329321090667767,
           4.886396741446052
          ],
          [
           "-",
           "(63, 126, 252)",
           1,
           0.8,
           0.6,
           0,
           0.15,
           30,
           2,
           0.1599200614956188,
           0.0921884103868872,
           -0.0321776320115694,
           4.969913927728425
          ],
          [
           "-",
           "(63, 126, 252)",
           1,
           0.8,
           0.6,
           0,
           0.12,
           20,
           2,
           0.150380935955172,
           0.0898972948485823,
           -0.0307110612319763,
           4.896637560625733
          ],
          [
           "-",
           "(63, 126, 252)",
           1,
           0.8,
           0.6,
           0,
           0.12,
           30,
           2,
           0.1493936662602535,
           0.0911109792717182,
           -0.0301670143753541,
           4.9522191490817535
          ],
          [
           "-",
           "(63, 126, 252)",
           1,
           0.8,
           0.6,
           0,
           0.15,
           20,
           3,
           0.2114621943616057,
           0.1297764735998942,
           -0.0392773611770114,
           5.383818770528101
          ],
          [
           "-",
           "(63, 126, 252)",
           1,
           0.8,
           0.6,
           0,
           0.12,
           15,
           2,
           0.1430858194339075,
           0.0894032340382146,
           -0.0324571107189642,
           4.408458308961686
          ],
          [
           "-",
           "(63, 126, 252)",
           1,
           0.8,
           0.6,
           0,
           0.15,
           30,
           3,
           0.2095245422660367,
           0.1309866893675106,
           -0.0386675022632551,
           5.418621064261072
          ],
          [
           "-",
           "(63, 126, 252)",
           1,
           0.8,
           0.6,
           0,
           0.1,
           20,
           2,
           0.1401439160564914,
           0.0878074086292224,
           -0.0261986147702043,
           5.349287253762627
          ],
          [
           "-",
           "(63, 126, 252)",
           1,
           0.8,
           0.6,
           0,
           0.1,
           30,
           2,
           0.1391721584700516,
           0.0886831482606072,
           -0.0258319672088599,
           5.387594268171641
          ],
          [
           "-",
           "(63, 126, 252)",
           1,
           0.8,
           0.6,
           0,
           0.15,
           15,
           3,
           0.2023831111546827,
           0.1296376141330569,
           -0.0417857949475996,
           4.843347156814322
          ],
          [
           "-",
           "(63, 126, 252)",
           1,
           0.8,
           0.6,
           0,
           0.12,
           20,
           3,
           0.1981561627085299,
           0.1273567605953336,
           -0.0314297000274323,
           6.304742410381766
          ],
          [
           "-",
           "(63, 126, 252)",
           1,
           0.8,
           0.6,
           0,
           0.1,
           15,
           2,
           0.1341526782098343,
           0.0874891516984923,
           -0.0278397113051223,
           4.818752491343228
          ],
          [
           "-",
           "(63, 126, 252)",
           1,
           0.8,
           0.6,
           0,
           0.12,
           30,
           3,
           0.1964545647380833,
           0.12817971532111,
           -0.0309610624136056,
           6.345213937224346
          ],
          [
           "-",
           "(63, 126, 252)",
           1,
           0.8,
           0.6,
           0,
           0.12,
           15,
           3,
           0.1910952227840547,
           0.1273211237506543,
           -0.0334206548792144,
           5.717877865490427
          ]
         ],
         "hovertemplate": "run=%{x}<br>sharpe=%{y}<br>loo=%{customdata[0]}<br>lookbacks=%{customdata[1]}<br>w_tsmom=%{customdata[2]}<br>w_xsec=%{customdata[3]}<br>w_mr=%{customdata[4]}<br>w_volcarry=%{customdata[5]}<br>target_vol=%{customdata[6]}<br>vol_lookback=%{customdata[7]}<br>max_leverage=%{customdata[8]}<br>cagr=%{customdata[9]}<br>vol=%{customdata[10]}<br>maxdd=%{customdata[11]}<br>mar=%{customdata[12]}<extra></extra>",
         "legendgroup": "",
         "marker": {
          "color": "#636efa",
          "pattern": {
           "shape": ""
          }
         },
         "name": "",
         "orientation": "v",
         "showlegend": false,
         "textposition": "auto",
         "type": "bar",
         "x": {
          "bdata": "Dw0RCQsQBxIDBQ4KAQwI",
          "dtype": "i1"
         },
         "xaxis": "x",
         "y": {
          "bdata": "WYzAVLyJ/D9B9+dz2CX8P/R+rC5ewfs/Nv/Vk9LD+j9Eu/J7Kjz6P0USSVopEvo/PdcmT3ab+T/1AzMI6Jf5P+e1X5teifk/JKFjWO4b+T9ee+Upc/r4P0XfcwsG5fg/QE3RPaiI+D+J45Viu4X4PwCXQA6nA/g/",
          "dtype": "f8"
         },
         "yaxis": "y"
        }
       ],
       "layout": {
        "barmode": "relative",
        "legend": {
         "tracegroupgap": 0
        },
        "template": {
         "data": {
          "bar": [
           {
            "error_x": {
             "color": "#2a3f5f"
            },
            "error_y": {
             "color": "#2a3f5f"
            },
            "marker": {
             "line": {
              "color": "#E5ECF6",
              "width": 0.5
             },
             "pattern": {
              "fillmode": "overlay",
              "size": 10,
              "solidity": 0.2
             }
            },
            "type": "bar"
           }
          ],
          "barpolar": [
           {
            "marker": {
             "line": {
              "color": "#E5ECF6",
              "width": 0.5
             },
             "pattern": {
              "fillmode": "overlay",
              "size": 10,
              "solidity": 0.2
             }
            },
            "type": "barpolar"
           }
          ],
          "carpet": [
           {
            "aaxis": {
             "endlinecolor": "#2a3f5f",
             "gridcolor": "white",
             "linecolor": "white",
             "minorgridcolor": "white",
             "startlinecolor": "#2a3f5f"
            },
            "baxis": {
             "endlinecolor": "#2a3f5f",
             "gridcolor": "white",
             "linecolor": "white",
             "minorgridcolor": "white",
             "startlinecolor": "#2a3f5f"
            },
            "type": "carpet"
           }
          ],
          "choropleth": [
           {
            "colorbar": {
             "outlinewidth": 0,
             "ticks": ""
            },
            "type": "choropleth"
           }
          ],
          "contour": [
           {
            "colorbar": {
             "outlinewidth": 0,
             "ticks": ""
            },
            "colorscale": [
             [
              0,
              "#0d0887"
             ],
             [
              0.1111111111111111,
              "#46039f"
             ],
             [
              0.2222222222222222,
              "#7201a8"
             ],
             [
              0.3333333333333333,
              "#9c179e"
             ],
             [
              0.4444444444444444,
              "#bd3786"
             ],
             [
              0.5555555555555556,
              "#d8576b"
             ],
             [
              0.6666666666666666,
              "#ed7953"
             ],
             [
              0.7777777777777778,
              "#fb9f3a"
             ],
             [
              0.8888888888888888,
              "#fdca26"
             ],
             [
              1,
              "#f0f921"
             ]
            ],
            "type": "contour"
           }
          ],
          "contourcarpet": [
           {
            "colorbar": {
             "outlinewidth": 0,
             "ticks": ""
            },
            "type": "contourcarpet"
           }
          ],
          "heatmap": [
           {
            "colorbar": {
             "outlinewidth": 0,
             "ticks": ""
            },
            "colorscale": [
             [
              0,
              "#0d0887"
             ],
             [
              0.1111111111111111,
              "#46039f"
             ],
             [
              0.2222222222222222,
              "#7201a8"
             ],
             [
              0.3333333333333333,
              "#9c179e"
             ],
             [
              0.4444444444444444,
              "#bd3786"
             ],
             [
              0.5555555555555556,
              "#d8576b"
             ],
             [
              0.6666666666666666,
              "#ed7953"
             ],
             [
              0.7777777777777778,
              "#fb9f3a"
             ],
             [
              0.8888888888888888,
              "#fdca26"
             ],
             [
              1,
              "#f0f921"
             ]
            ],
            "type": "heatmap"
           }
          ],
          "histogram": [
           {
            "marker": {
             "pattern": {
              "fillmode": "overlay",
              "size": 10,
              "solidity": 0.2
             }
            },
            "type": "histogram"
           }
          ],
          "histogram2d": [
           {
            "colorbar": {
             "outlinewidth": 0,
             "ticks": ""
            },
            "colorscale": [
             [
              0,
              "#0d0887"
             ],
             [
              0.1111111111111111,
              "#46039f"
             ],
             [
              0.2222222222222222,
              "#7201a8"
             ],
             [
              0.3333333333333333,
              "#9c179e"
             ],
             [
              0.4444444444444444,
              "#bd3786"
             ],
             [
              0.5555555555555556,
              "#d8576b"
             ],
             [
              0.6666666666666666,
              "#ed7953"
             ],
             [
              0.7777777777777778,
              "#fb9f3a"
             ],
             [
              0.8888888888888888,
              "#fdca26"
             ],
             [
              1,
              "#f0f921"
             ]
            ],
            "type": "histogram2d"
           }
          ],
          "histogram2dcontour": [
           {
            "colorbar": {
             "outlinewidth": 0,
             "ticks": ""
            },
            "colorscale": [
             [
              0,
              "#0d0887"
             ],
             [
              0.1111111111111111,
              "#46039f"
             ],
             [
              0.2222222222222222,
              "#7201a8"
             ],
             [
              0.3333333333333333,
              "#9c179e"
             ],
             [
              0.4444444444444444,
              "#bd3786"
             ],
             [
              0.5555555555555556,
              "#d8576b"
             ],
             [
              0.6666666666666666,
              "#ed7953"
             ],
             [
              0.7777777777777778,
              "#fb9f3a"
             ],
             [
              0.8888888888888888,
              "#fdca26"
             ],
             [
              1,
              "#f0f921"
             ]
            ],
            "type": "histogram2dcontour"
           }
          ],
          "mesh3d": [
           {
            "colorbar": {
             "outlinewidth": 0,
             "ticks": ""
            },
            "type": "mesh3d"
           }
          ],
          "parcoords": [
           {
            "line": {
             "colorbar": {
              "outlinewidth": 0,
              "ticks": ""
             }
            },
            "type": "parcoords"
           }
          ],
          "pie": [
           {
            "automargin": true,
            "type": "pie"
           }
          ],
          "scatter": [
           {
            "fillpattern": {
             "fillmode": "overlay",
             "size": 10,
             "solidity": 0.2
            },
            "type": "scatter"
           }
          ],
          "scatter3d": [
           {
            "line": {
             "colorbar": {
              "outlinewidth": 0,
              "ticks": ""
             }
            },
            "marker": {
             "colorbar": {
              "outlinewidth": 0,
              "ticks": ""
             }
            },
            "type": "scatter3d"
           }
          ],
          "scattercarpet": [
           {
            "marker": {
             "colorbar": {
              "outlinewidth": 0,
              "ticks": ""
             }
            },
            "type": "scattercarpet"
           }
          ],
          "scattergeo": [
           {
            "marker": {
             "colorbar": {
              "outlinewidth": 0,
              "ticks": ""
             }
            },
            "type": "scattergeo"
           }
          ],
          "scattergl": [
           {
            "marker": {
             "colorbar": {
              "outlinewidth": 0,
              "ticks": ""
             }
            },
            "type": "scattergl"
           }
          ],
          "scattermap": [
           {
            "marker": {
             "colorbar": {
              "outlinewidth": 0,
              "ticks": ""
             }
            },
            "type": "scattermap"
           }
          ],
          "scattermapbox": [
           {
            "marker": {
             "colorbar": {
              "outlinewidth": 0,
              "ticks": ""
             }
            },
            "type": "scattermapbox"
           }
          ],
          "scatterpolar": [
           {
            "marker": {
             "colorbar": {
              "outlinewidth": 0,
              "ticks": ""
             }
            },
            "type": "scatterpolar"
           }
          ],
          "scatterpolargl": [
           {
            "marker": {
             "colorbar": {
              "outlinewidth": 0,
              "ticks": ""
             }
            },
            "type": "scatterpolargl"
           }
          ],
          "scatterternary": [
           {
            "marker": {
             "colorbar": {
              "outlinewidth": 0,
              "ticks": ""
             }
            },
            "type": "scatterternary"
           }
          ],
          "surface": [
           {
            "colorbar": {
             "outlinewidth": 0,
             "ticks": ""
            },
            "colorscale": [
             [
              0,
              "#0d0887"
             ],
             [
              0.1111111111111111,
              "#46039f"
             ],
             [
              0.2222222222222222,
              "#7201a8"
             ],
             [
              0.3333333333333333,
              "#9c179e"
             ],
             [
              0.4444444444444444,
              "#bd3786"
             ],
             [
              0.5555555555555556,
              "#d8576b"
             ],
             [
              0.6666666666666666,
              "#ed7953"
             ],
             [
              0.7777777777777778,
              "#fb9f3a"
             ],
             [
              0.8888888888888888,
              "#fdca26"
             ],
             [
              1,
              "#f0f921"
             ]
            ],
            "type": "surface"
           }
          ],
          "table": [
           {
            "cells": {
             "fill": {
              "color": "#EBF0F8"
             },
             "line": {
              "color": "white"
             }
            },
            "header": {
             "fill": {
              "color": "#C8D4E3"
             },
             "line": {
              "color": "white"
             }
            },
            "type": "table"
           }
          ]
         },
         "layout": {
          "annotationdefaults": {
           "arrowcolor": "#2a3f5f",
           "arrowhead": 0,
           "arrowwidth": 1
          },
          "autotypenumbers": "strict",
          "coloraxis": {
           "colorbar": {
            "outlinewidth": 0,
            "ticks": ""
           }
          },
          "colorscale": {
           "diverging": [
            [
             0,
             "#8e0152"
            ],
            [
             0.1,
             "#c51b7d"
            ],
            [
             0.2,
             "#de77ae"
            ],
            [
             0.3,
             "#f1b6da"
            ],
            [
             0.4,
             "#fde0ef"
            ],
            [
             0.5,
             "#f7f7f7"
            ],
            [
             0.6,
             "#e6f5d0"
            ],
            [
             0.7,
             "#b8e186"
            ],
            [
             0.8,
             "#7fbc41"
            ],
            [
             0.9,
             "#4d9221"
            ],
            [
             1,
             "#276419"
            ]
           ],
           "sequential": [
            [
             0,
             "#0d0887"
            ],
            [
             0.1111111111111111,
             "#46039f"
            ],
            [
             0.2222222222222222,
             "#7201a8"
            ],
            [
             0.3333333333333333,
             "#9c179e"
            ],
            [
             0.4444444444444444,
             "#bd3786"
            ],
            [
             0.5555555555555556,
             "#d8576b"
            ],
            [
             0.6666666666666666,
             "#ed7953"
            ],
            [
             0.7777777777777778,
             "#fb9f3a"
            ],
            [
             0.8888888888888888,
             "#fdca26"
            ],
            [
             1,
             "#f0f921"
            ]
           ],
           "sequentialminus": [
            [
             0,
             "#0d0887"
            ],
            [
             0.1111111111111111,
             "#46039f"
            ],
            [
             0.2222222222222222,
             "#7201a8"
            ],
            [
             0.3333333333333333,
             "#9c179e"
            ],
            [
             0.4444444444444444,
             "#bd3786"
            ],
            [
             0.5555555555555556,
             "#d8576b"
            ],
            [
             0.6666666666666666,
             "#ed7953"
            ],
            [
             0.7777777777777778,
             "#fb9f3a"
            ],
            [
             0.8888888888888888,
             "#fdca26"
            ],
            [
             1,
             "#f0f921"
            ]
           ]
          },
          "colorway": [
           "#636efa",
           "#EF553B",
           "#00cc96",
           "#ab63fa",
           "#FFA15A",
           "#19d3f3",
           "#FF6692",
           "#B6E880",
           "#FF97FF",
           "#FECB52"
          ],
          "font": {
           "color": "#2a3f5f"
          },
          "geo": {
           "bgcolor": "white",
           "lakecolor": "white",
           "landcolor": "#E5ECF6",
           "showlakes": true,
           "showland": true,
           "subunitcolor": "white"
          },
          "hoverlabel": {
           "align": "left"
          },
          "hovermode": "closest",
          "mapbox": {
           "style": "light"
          },
          "paper_bgcolor": "white",
          "plot_bgcolor": "#E5ECF6",
          "polar": {
           "angularaxis": {
            "gridcolor": "white",
            "linecolor": "white",
            "ticks": ""
           },
           "bgcolor": "#E5ECF6",
           "radialaxis": {
            "gridcolor": "white",
            "linecolor": "white",
            "ticks": ""
           }
          },
          "scene": {
           "xaxis": {
            "backgroundcolor": "#E5ECF6",
            "gridcolor": "white",
            "gridwidth": 2,
            "linecolor": "white",
            "showbackground": true,
            "ticks": "",
            "zerolinecolor": "white"
           },
           "yaxis": {
            "backgroundcolor": "#E5ECF6",
            "gridcolor": "white",
            "gridwidth": 2,
            "linecolor": "white",
            "showbackground": true,
            "ticks": "",
            "zerolinecolor": "white"
           },
           "zaxis": {
            "backgroundcolor": "#E5ECF6",
            "gridcolor": "white",
            "gridwidth": 2,
            "linecolor": "white",
            "showbackground": true,
            "ticks": "",
            "zerolinecolor": "white"
           }
          },
          "shapedefaults": {
           "line": {
            "color": "#2a3f5f"
           }
          },
          "ternary": {
           "aaxis": {
            "gridcolor": "white",
            "linecolor": "white",
            "ticks": ""
           },
           "baxis": {
            "gridcolor": "white",
            "linecolor": "white",
            "ticks": ""
           },
           "bgcolor": "#E5ECF6",
           "caxis": {
            "gridcolor": "white",
            "linecolor": "white",
            "ticks": ""
           }
          },
          "title": {
           "x": 0.05
          },
          "xaxis": {
           "automargin": true,
           "gridcolor": "white",
           "linecolor": "white",
           "ticks": "",
           "title": {
            "standoff": 15
           },
           "zerolinecolor": "white",
           "zerolinewidth": 2
          },
          "yaxis": {
           "automargin": true,
           "gridcolor": "white",
           "linecolor": "white",
           "ticks": "",
           "title": {
            "standoff": 15
           },
           "zerolinecolor": "white",
           "zerolinewidth": 2
          }
         }
        },
        "title": {
         "text": "Top-15 by Sharpe"
        },
        "xaxis": {
         "anchor": "y",
         "domain": [
          0,
          1
         ],
         "title": {
          "text": "run"
         }
        },
        "yaxis": {
         "anchor": "x",
         "domain": [
          0,
          1
         ],
         "title": {
          "text": "sharpe"
         }
        }
       }
      }
     },
     "metadata": {},
     "output_type": "display_data"
    }
   ],
   "source": [
    "import plotly.express as px\n",
    "\n",
    "dsp = df.copy()\n",
    "dsp['drawdown_abs'] = dsp['maxdd'].abs()\n",
    "\n",
    "hover_fixed = ['run','lookbacks','w_tsmom','w_xsec','w_mr']\n",
    "hover_maybe = ['w_volcarry','vc_top_q','vc_bot_q','vc_lookback']\n",
    "hover_tail  = ['target_vol','vol_lookback','max_leverage','cagr','vol','maxdd','mar']\n",
    "\n",
    "hover_cols = [c for c in hover_fixed + hover_maybe + hover_tail if c in dsp.columns]\n",
    "\n",
    "fig = px.scatter(\n",
    "    dsp, x='drawdown_abs', y='sharpe',\n",
    "    hover_data=hover_cols,\n",
    "    title='Sharpe vs |MaxDD| (lower is better on X, higher is better on Y)'\n",
    ")\n",
    "fig.update_layout(xaxis_title='|Max Drawdown|', yaxis_title='Sharpe')\n",
    "fig.show()\n",
    "\n",
    "topN = df.sort_values('sharpe', ascending=False).head(15)\n",
    "px.bar(topN, x='run', y='sharpe', title='Top-15 by Sharpe', hover_data=[c for c in topN.columns]).show()\n",
    "\n"
   ]
  },
  {
   "cell_type": "code",
   "execution_count": 8,
   "id": "af5b2e37",
   "metadata": {},
   "outputs": [
    {
     "data": {
      "text/html": [
       "<div>\n",
       "<style scoped>\n",
       "    .dataframe tbody tr th:only-of-type {\n",
       "        vertical-align: middle;\n",
       "    }\n",
       "\n",
       "    .dataframe tbody tr th {\n",
       "        vertical-align: top;\n",
       "    }\n",
       "\n",
       "    .dataframe thead th {\n",
       "        text-align: right;\n",
       "    }\n",
       "</style>\n",
       "<table border=\"1\" class=\"dataframe\">\n",
       "  <thead>\n",
       "    <tr style=\"text-align: right;\">\n",
       "      <th></th>\n",
       "      <th>run</th>\n",
       "      <th>loo</th>\n",
       "      <th>lookbacks</th>\n",
       "      <th>w_tsmom</th>\n",
       "      <th>w_xsec</th>\n",
       "      <th>w_mr</th>\n",
       "      <th>w_volcarry</th>\n",
       "      <th>target_vol</th>\n",
       "      <th>vol_lookback</th>\n",
       "      <th>max_leverage</th>\n",
       "      <th>cagr</th>\n",
       "      <th>vol</th>\n",
       "      <th>sharpe</th>\n",
       "      <th>maxdd</th>\n",
       "      <th>mar</th>\n",
       "    </tr>\n",
       "  </thead>\n",
       "  <tbody>\n",
       "    <tr>\n",
       "      <th>14</th>\n",
       "      <td>15</td>\n",
       "      <td>-</td>\n",
       "      <td>(63, 126, 252)</td>\n",
       "      <td>1.0</td>\n",
       "      <td>0.8</td>\n",
       "      <td>0.6</td>\n",
       "      <td>0.0</td>\n",
       "      <td>0.15</td>\n",
       "      <td>20</td>\n",
       "      <td>2.0</td>\n",
       "      <td>0.164424</td>\n",
       "      <td>0.092185</td>\n",
       "      <td>1.783627</td>\n",
       "      <td>-0.033123</td>\n",
       "      <td>4.964062</td>\n",
       "    </tr>\n",
       "    <tr>\n",
       "      <th>12</th>\n",
       "      <td>13</td>\n",
       "      <td>-</td>\n",
       "      <td>(63, 126, 252)</td>\n",
       "      <td>1.0</td>\n",
       "      <td>0.8</td>\n",
       "      <td>0.6</td>\n",
       "      <td>0.0</td>\n",
       "      <td>0.15</td>\n",
       "      <td>15</td>\n",
       "      <td>2.0</td>\n",
       "      <td>0.160919</td>\n",
       "      <td>0.091471</td>\n",
       "      <td>1.759240</td>\n",
       "      <td>-0.032932</td>\n",
       "      <td>4.886397</td>\n",
       "    </tr>\n",
       "    <tr>\n",
       "      <th>16</th>\n",
       "      <td>17</td>\n",
       "      <td>-</td>\n",
       "      <td>(63, 126, 252)</td>\n",
       "      <td>1.0</td>\n",
       "      <td>0.8</td>\n",
       "      <td>0.6</td>\n",
       "      <td>0.0</td>\n",
       "      <td>0.15</td>\n",
       "      <td>30</td>\n",
       "      <td>2.0</td>\n",
       "      <td>0.159920</td>\n",
       "      <td>0.092188</td>\n",
       "      <td>1.734709</td>\n",
       "      <td>-0.032178</td>\n",
       "      <td>4.969914</td>\n",
       "    </tr>\n",
       "    <tr>\n",
       "      <th>8</th>\n",
       "      <td>9</td>\n",
       "      <td>-</td>\n",
       "      <td>(63, 126, 252)</td>\n",
       "      <td>1.0</td>\n",
       "      <td>0.8</td>\n",
       "      <td>0.6</td>\n",
       "      <td>0.0</td>\n",
       "      <td>0.12</td>\n",
       "      <td>20</td>\n",
       "      <td>2.0</td>\n",
       "      <td>0.150381</td>\n",
       "      <td>0.089897</td>\n",
       "      <td>1.672808</td>\n",
       "      <td>-0.030711</td>\n",
       "      <td>4.896638</td>\n",
       "    </tr>\n",
       "    <tr>\n",
       "      <th>10</th>\n",
       "      <td>11</td>\n",
       "      <td>-</td>\n",
       "      <td>(63, 126, 252)</td>\n",
       "      <td>1.0</td>\n",
       "      <td>0.8</td>\n",
       "      <td>0.6</td>\n",
       "      <td>0.0</td>\n",
       "      <td>0.12</td>\n",
       "      <td>30</td>\n",
       "      <td>2.0</td>\n",
       "      <td>0.149394</td>\n",
       "      <td>0.091111</td>\n",
       "      <td>1.639689</td>\n",
       "      <td>-0.030167</td>\n",
       "      <td>4.952219</td>\n",
       "    </tr>\n",
       "    <tr>\n",
       "      <th>15</th>\n",
       "      <td>16</td>\n",
       "      <td>-</td>\n",
       "      <td>(63, 126, 252)</td>\n",
       "      <td>1.0</td>\n",
       "      <td>0.8</td>\n",
       "      <td>0.6</td>\n",
       "      <td>0.0</td>\n",
       "      <td>0.15</td>\n",
       "      <td>20</td>\n",
       "      <td>3.0</td>\n",
       "      <td>0.211462</td>\n",
       "      <td>0.129776</td>\n",
       "      <td>1.629434</td>\n",
       "      <td>-0.039277</td>\n",
       "      <td>5.383819</td>\n",
       "    </tr>\n",
       "    <tr>\n",
       "      <th>6</th>\n",
       "      <td>7</td>\n",
       "      <td>-</td>\n",
       "      <td>(63, 126, 252)</td>\n",
       "      <td>1.0</td>\n",
       "      <td>0.8</td>\n",
       "      <td>0.6</td>\n",
       "      <td>0.0</td>\n",
       "      <td>0.12</td>\n",
       "      <td>15</td>\n",
       "      <td>2.0</td>\n",
       "      <td>0.143086</td>\n",
       "      <td>0.089403</td>\n",
       "      <td>1.600455</td>\n",
       "      <td>-0.032457</td>\n",
       "      <td>4.408458</td>\n",
       "    </tr>\n",
       "    <tr>\n",
       "      <th>17</th>\n",
       "      <td>18</td>\n",
       "      <td>-</td>\n",
       "      <td>(63, 126, 252)</td>\n",
       "      <td>1.0</td>\n",
       "      <td>0.8</td>\n",
       "      <td>0.6</td>\n",
       "      <td>0.0</td>\n",
       "      <td>0.15</td>\n",
       "      <td>30</td>\n",
       "      <td>3.0</td>\n",
       "      <td>0.209525</td>\n",
       "      <td>0.130987</td>\n",
       "      <td>1.599587</td>\n",
       "      <td>-0.038668</td>\n",
       "      <td>5.418621</td>\n",
       "    </tr>\n",
       "    <tr>\n",
       "      <th>2</th>\n",
       "      <td>3</td>\n",
       "      <td>-</td>\n",
       "      <td>(63, 126, 252)</td>\n",
       "      <td>1.0</td>\n",
       "      <td>0.8</td>\n",
       "      <td>0.6</td>\n",
       "      <td>0.0</td>\n",
       "      <td>0.10</td>\n",
       "      <td>20</td>\n",
       "      <td>2.0</td>\n",
       "      <td>0.140144</td>\n",
       "      <td>0.087807</td>\n",
       "      <td>1.596037</td>\n",
       "      <td>-0.026199</td>\n",
       "      <td>5.349287</td>\n",
       "    </tr>\n",
       "    <tr>\n",
       "      <th>4</th>\n",
       "      <td>5</td>\n",
       "      <td>-</td>\n",
       "      <td>(63, 126, 252)</td>\n",
       "      <td>1.0</td>\n",
       "      <td>0.8</td>\n",
       "      <td>0.6</td>\n",
       "      <td>0.0</td>\n",
       "      <td>0.10</td>\n",
       "      <td>30</td>\n",
       "      <td>2.0</td>\n",
       "      <td>0.139172</td>\n",
       "      <td>0.088683</td>\n",
       "      <td>1.569319</td>\n",
       "      <td>-0.025832</td>\n",
       "      <td>5.387594</td>\n",
       "    </tr>\n",
       "  </tbody>\n",
       "</table>\n",
       "</div>"
      ],
      "text/plain": [
       "    run loo       lookbacks  w_tsmom  w_xsec  w_mr  w_volcarry  target_vol  \\\n",
       "14   15   -  (63, 126, 252)      1.0     0.8   0.6         0.0        0.15   \n",
       "12   13   -  (63, 126, 252)      1.0     0.8   0.6         0.0        0.15   \n",
       "16   17   -  (63, 126, 252)      1.0     0.8   0.6         0.0        0.15   \n",
       "8     9   -  (63, 126, 252)      1.0     0.8   0.6         0.0        0.12   \n",
       "10   11   -  (63, 126, 252)      1.0     0.8   0.6         0.0        0.12   \n",
       "15   16   -  (63, 126, 252)      1.0     0.8   0.6         0.0        0.15   \n",
       "6     7   -  (63, 126, 252)      1.0     0.8   0.6         0.0        0.12   \n",
       "17   18   -  (63, 126, 252)      1.0     0.8   0.6         0.0        0.15   \n",
       "2     3   -  (63, 126, 252)      1.0     0.8   0.6         0.0        0.10   \n",
       "4     5   -  (63, 126, 252)      1.0     0.8   0.6         0.0        0.10   \n",
       "\n",
       "    vol_lookback  max_leverage      cagr       vol    sharpe     maxdd  \\\n",
       "14            20           2.0  0.164424  0.092185  1.783627 -0.033123   \n",
       "12            15           2.0  0.160919  0.091471  1.759240 -0.032932   \n",
       "16            30           2.0  0.159920  0.092188  1.734709 -0.032178   \n",
       "8             20           2.0  0.150381  0.089897  1.672808 -0.030711   \n",
       "10            30           2.0  0.149394  0.091111  1.639689 -0.030167   \n",
       "15            20           3.0  0.211462  0.129776  1.629434 -0.039277   \n",
       "6             15           2.0  0.143086  0.089403  1.600455 -0.032457   \n",
       "17            30           3.0  0.209525  0.130987  1.599587 -0.038668   \n",
       "2             20           2.0  0.140144  0.087807  1.596037 -0.026199   \n",
       "4             30           2.0  0.139172  0.088683  1.569319 -0.025832   \n",
       "\n",
       "         mar  \n",
       "14  4.964062  \n",
       "12  4.886397  \n",
       "16  4.969914  \n",
       "8   4.896638  \n",
       "10  4.952219  \n",
       "15  5.383819  \n",
       "6   4.408458  \n",
       "17  5.418621  \n",
       "2   5.349287  \n",
       "4   5.387594  "
      ]
     },
     "execution_count": 8,
     "metadata": {},
     "output_type": "execute_result"
    }
   ],
   "source": [
    "# ✏️ Adjust filters here to shortlist candidates\n",
    "flt = df.copy()\n",
    "# Examples:\n",
    "# if 'w_volcarry' in flt.columns:\n",
    "#     flt = flt.query(\"w_volcarry >= 0.3\")\n",
    "# flt = flt.query(\"maxdd > -0.10\")\n",
    "# flt = flt.query(\"sharpe >= 1.0\")\n",
    "# flt = flt.query(\"vol_lookback == 20 and target_vol == 0.12\")\n",
    "\n",
    "short = flt.sort_values(['sharpe','maxdd'], ascending=[False, True]).head(10)\n",
    "\n",
    "base_cols = ['run','loo','lookbacks','w_tsmom','w_xsec','w_mr']\n",
    "maybe_cols = ['w_volcarry','vc_top_q','vc_bot_q','vc_lookback']\n",
    "tail_cols = ['target_vol','vol_lookback','max_leverage','cagr','vol','sharpe','maxdd','mar']\n",
    "cols_show = [c for c in base_cols + maybe_cols + tail_cols if c in short.columns]\n",
    "\n",
    "short_display = short[cols_show].copy()\n",
    "short_display\n"
   ]
  },
  {
   "cell_type": "code",
   "execution_count": 9,
   "id": "b078ac18",
   "metadata": {},
   "outputs": [
    {
     "name": "stdout",
     "output_type": "stream",
     "text": [
      "Chosen override: C:\\Users\\speed\\Desktop\\Forex CFD's system\\runs\\robustness_with_volcarry\\run_0015\\override.yaml\n",
      "Saved pointer: C:\\Users\\speed\\Desktop\\Forex CFD's system\\runs\\robustness_with_volcarry\\chosen_override_path.txt\n"
     ]
    }
   ],
   "source": [
    "# Pick one run id to use in the next step (override.yaml location)\n",
    "CHOSEN_RUN_ID = int(short['run'].iloc[0])  # or set manually, e.g. 7\n",
    "\n",
    "OVR = ROB_DIR / f\"run_{CHOSEN_RUN_ID:04d}\" / \"override.yaml\"\n",
    "assert OVR.exists(), f\"override.yaml not found for run {CHOSEN_RUN_ID} at {OVR}\"\n",
    "print(\"Chosen override:\", OVR)\n",
    "\n",
    "# Save a small pointer file for other notebooks/scripts\n",
    "POINTER = ROB_DIR / \"chosen_override_path.txt\"\n",
    "POINTER.write_text(str(OVR), encoding=\"utf-8\")\n",
    "print(\"Saved pointer:\", POINTER)\n"
   ]
  }
 ],
 "metadata": {
  "kernelspec": {
   "display_name": "Python 3",
   "language": "python",
   "name": "python3"
  },
  "language_info": {
   "codemirror_mode": {
    "name": "ipython",
    "version": 3
   },
   "file_extension": ".py",
   "mimetype": "text/x-python",
   "name": "python",
   "nbconvert_exporter": "python",
   "pygments_lexer": "ipython3",
   "version": "3.13.0"
  }
 },
 "nbformat": 4,
 "nbformat_minor": 5
}
