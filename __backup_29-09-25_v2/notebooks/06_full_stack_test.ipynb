{
 "cells": [
  {
   "cell_type": "code",
   "execution_count": null,
   "id": "7fb27b941602401d91542211134fc71a",
   "metadata": {},
   "outputs": [],
   "source": [
    "\n",
    "from pathlib import Path\n",
    "\n",
    "PROJECT_OVERRIDE = r\"C:\\Users\\speed\\Desktop\\Forex CFD's system\"\n",
    "ROOT = Path(PROJECT_OVERRIDE)\n",
    "DATA_1D = ROOT/\"data\"/\"prices_1d\"\n",
    "DATA_1H = ROOT/\"data\"/\"prices_1h\"\n",
    "CFG = ROOT/\"config\"/\"baseline.yaml\"\n",
    "DATA_DIR = DATA_1D if DATA_1D.exists() else DATA_1H\n",
    "\n",
    "print(\"Project root:\", ROOT)\n",
    "print(\"Using data dir:\", DATA_DIR)\n",
    "assert DATA_DIR.exists(), f\"Expected data under {ROOT/'data'} (prices_1d or prices_1h)\"\n",
    "assert CFG.exists(), f\"Missing baseline config at {CFG}\"\n"
   ]
  }
 ],
 "metadata": {
  "kernelspec": {
   "display_name": "Python 3",
   "language": "python",
   "name": "python3"
  }
 },
 "nbformat": 4,
 "nbformat_minor": 5
}
