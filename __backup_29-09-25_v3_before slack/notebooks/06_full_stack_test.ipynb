{
  "cells": [
    {
      "cell_type": "code",
      "metadata": {},
      "execution_count": null,
      "outputs": [],
      "source": [
        "\nfrom pathlib import Path\nimport sys\n\nPROJECT_OVERRIDE = r\"C:\\Users\\speed\\Desktop\\Forex CFD's system\"\nROOT = Path(PROJECT_OVERRIDE)\nDATA_1D = ROOT/\"data\"/\"prices_1d\"\nDATA_1H = ROOT/\"data\"/\"prices_1h\"\nCFG = ROOT/\"config\"/\"baseline.yaml\"\nDATA_DIR = DATA_1D if DATA_1D.exists() else DATA_1H\n\nprint(\"Project root:\", ROOT)\nprint(\"Using data dir:\", DATA_DIR)\nassert DATA_DIR.exists(), f\"Expected data under {ROOT/'data'} (prices_1d or prices_1h)\"\nassert CFG.exists(), f\"Missing baseline config at {CFG}\"\n"
      ]
    }
  ],
  "metadata": {
    "kernelspec": {
      "display_name": "Python 3",
      "language": "python",
      "name": "python3"
    }
  },
  "nbformat": 4,
  "nbformat_minor": 5
}